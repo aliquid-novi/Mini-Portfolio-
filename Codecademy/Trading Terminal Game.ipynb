{
 "cells": [
  {
   "cell_type": "code",
   "execution_count": 1,
   "id": "e9329e82-c287-4bda-ac1d-82a23b165f33",
   "metadata": {},
   "outputs": [],
   "source": [
    "import random\n",
    "import time"
   ]
  },
  {
   "cell_type": "code",
   "execution_count": 2,
   "id": "d2b8af82-3215-4902-be0d-583caaf23205",
   "metadata": {},
   "outputs": [],
   "source": [
    "# Classes\n",
    "\n",
    "class Stock:\n",
    "    def __init__(self, name, price):\n",
    "        self.name = name\n",
    "        self.price = price\n",
    "\n",
    "    def __hash__(self):\n",
    "        return hash(self.name)\n",
    "\n",
    "    def __eq__(self, other):\n",
    "        if isinstance(other, Stock):\n",
    "            return self.name == other.name\n",
    "        return False\n",
    "\n",
    "    def __repr__(self):\n",
    "        return f\"Stock({self.name}, {self.price})\"\n",
    "\n",
    "    def update_price(self):\n",
    "        self.price = self.price - self.price * random.uniform(-0.1, 0.1)\n",
    "        return self.price\n",
    "    \n",
    "\n",
    "class Trader:\n",
    "    \n",
    "    def __init__(self, balance):\n",
    "        self.balance = balance\n",
    "        self.portfolio = {}\n",
    "        self.portfolio_val = 0\n",
    "\n",
    "    def buy_shares(self, stock, quantity):\n",
    "        print(f'Buying {stock.name} for ${stock.price}. Buying {quantity} shares')\n",
    "        total_cost = stock.price * quantity\n",
    "        if self.balance - total_cost < 0:\n",
    "            print(f\"Not enough funds. Try again.\")\n",
    "            \n",
    "        if self.balance - total_cost > 0:\n",
    "            self.balance -= total_cost\n",
    "            print(f'Total cost: ${total_cost}. New Balance = ${self.balance}.')\n",
    "\n",
    "            if stock in self.portfolio:\n",
    "                self.portfolio[stock] += quantity\n",
    "            else:\n",
    "                self.portfolio[stock] = quantity\n",
    "\n",
    "            return f'Portfolio is: {self.portfolio}'\n",
    "    \n",
    "    def sell_shares(self, stock, quantity):\n",
    "        \n",
    "        stock_names = [s.name for s in self.portfolio.keys()]\n",
    "\n",
    "        if stock.name not in stock_names:\n",
    "            print('Not a real stock!')\n",
    "        else:\n",
    "            for stocks, amt in self.portfolio.items():\n",
    "                if stock.name == stocks.name and quantity <= amt:\n",
    "                    print(f'Selling {stock.name} for ${stock.price}. Sold {quantity} shares')\n",
    "                    self.balance += stock.price * quantity \n",
    "                    self.portfolio[stocks] -= quantity\n",
    "\n",
    "                    if self.portfolio[stocks] == 0:\n",
    "                        print(f'You now have 0 {stocks.name}')\n",
    "                    else:\n",
    "                        print(f'You have {self.portfolio[stocks]} left')\n",
    "\n",
    "                elif stock.name == stocks.name and quantity > amt:\n",
    "                    print(f'You only have {amt} amount of shares! You tried to sell {quantity}')\n",
    "        \n",
    "\n",
    "    def portfolio_value(self):\n",
    "        total_value = 0\n",
    "        for stock, quantity in self.portfolio.items():\n",
    "            total_value += stock.price * quantity\n",
    "            # print(f'Total value of ${stock} : ${stock.price * quantity}')\n",
    "            return f'Total value of {stock.name} : {stock.price * quantity}. Total number of shares: {quantity}. Total value of portfolio : ${total_value}'\n",
    "        \n",
    "    def get_value(self):\n",
    "        total_value = 0\n",
    "        for stock, quantity in self.portfolio.items():\n",
    "            total_value += stock.price * quantity\n",
    "        return total_value"
   ]
  },
  {
   "cell_type": "code",
   "execution_count": 3,
   "id": "cf8deecb-8b66-4648-956e-664fe35e5626",
   "metadata": {},
   "outputs": [],
   "source": [
    "# Initialize stocks to trade \n",
    "CBA = Stock('CBA', 100)\n",
    "ANZ = Stock('ANZ', 68)\n",
    "NAB = Stock('NAB', 83)\n",
    "\n",
    "lst = [CBA, ANZ, NAB]"
   ]
  },
  {
   "cell_type": "code",
   "execution_count": 4,
   "id": "449c4def-8515-40de-95aa-d3aa74b8c1bb",
   "metadata": {},
   "outputs": [
    {
     "name": "stdin",
     "output_type": "stream",
     "text": [
      "Hi! Would you like to trade the markets against Robert, our AI? yes\n"
     ]
    },
    {
     "name": "stdout",
     "output_type": "stream",
     "text": [
      "Okay, let's boot up the markets! You and Robert have 10,000AUD to trade with against each other\n",
      "This is how the game will be played!\n",
      "There are 10 rounds. You can buy or sell stocks at each round. Prices of each stock will update each round.\n",
      "Robert will choose stocks to buy each round after you. After you and Robert are finished buying stocks, both of your portfolios will be printed.\n",
      "At the end of the 10 rounds, the player with the highest balance will be declared the winner.\n",
      "Here is the list of stocks to choose from. Good luck!\n",
      "Stock CBA @ 100\n",
      "Stock ANZ @ 68\n",
      "Stock NAB @ 83\n"
     ]
    }
   ],
   "source": [
    "# Get player \n",
    "User_Decision = input('Hi! Would you like to trade the markets against Robert, our AI?')\n",
    "\n",
    "if User_Decision.lower() == \"yes\":\n",
    "    print(\"Okay, let's boot up the markets! You and Robert have 10,000AUD to trade with against each other\")\n",
    "    time.sleep(3)\n",
    "    #Print rules and stocks\n",
    "    print(\"This is how the game will be played!\"\n",
    "          \"\\nThere are 10 rounds. You can buy or sell stocks at each round. Prices of each stock will update each round.\"\n",
    "          \"\\nRobert will choose stocks to buy each round after you. After you and Robert are finished buying stocks, both of your portfolios will be printed.\"\n",
    "          \"\\nAt the end of the 10 rounds, the player with the highest balance will be declared the winner.\"\n",
    "          f\"\\nHere is the list of stocks to choose from. Good luck!\")\n",
    "    for key in lst:\n",
    "        print(f'Stock {key.name} @ {key.price}')\n",
    "    \n",
    "else:\n",
    "    print('Okay, see you next time then!')"
   ]
  },
  {
   "cell_type": "code",
   "execution_count": 5,
   "id": "758318df-72c4-44a9-9c05-8e4de08acbb7",
   "metadata": {},
   "outputs": [],
   "source": [
    "# Initializing players\n",
    "Player = Trader(10000)\n",
    "Robert = Trader(10000)"
   ]
  },
  {
   "cell_type": "code",
   "execution_count": 6,
   "id": "1662f51b-e503-4fe0-9e7d-36458c43e240",
   "metadata": {},
   "outputs": [],
   "source": [
    "#Functions\n",
    "def buy_order():\n",
    "    player_choice = input('Which stock would you like to buy?')\n",
    "\n",
    "    for stock in lst:\n",
    "\n",
    "        if player_choice.upper() == stock.name:\n",
    "            number_of_shares = int(input('How many shares would you like to buy?'))\n",
    "            print(f'Okay, processing transaction now...')\n",
    "            Player.buy_shares(stock, number_of_shares)\n",
    "    \n",
    "\n",
    "def sell_order():\n",
    "    if len(Player.portfolio) == 0:\n",
    "        choice = input(\"You don't have any stocks to sell! Would you like to buy some instead?\")\n",
    "        if choice.lower() == 'yes':\n",
    "\n",
    "            player_choice = input('Which stock would you like to buy?')\n",
    "\n",
    "            for stock in lst:\n",
    "\n",
    "                if player_choice == stock.name:\n",
    "                    number_of_shares = int(input('How many shares would you like to buy?'))\n",
    "                    print(f'Okay, processing transaction now...')\n",
    "                    Player.buy_shares(stock, number_of_shares)\n",
    "\n",
    "    else:\n",
    "        choice = input(f'Okay. Here is your current portfolio: \\n {Player.portfolio_value()}'\n",
    "                       f'\\n Here is your current balance: {Player.balance}.'\n",
    "                       f'\\n What would you like to sell?')\n",
    "        while choice not in Player.portfolio.keys() or not any(choice == key.name for key in Player.portfolio):\n",
    "            choice = input(\"You don't hold that stock! Please enter a valid stock to sell, or type 'exit' to exit.\")\n",
    "            if choice.lower() == 'exit':\n",
    "                return\n",
    "\n",
    "        stock_choice = Player.portfolio[choice]\n",
    "        amount_to_sell = int(input(f'Okay, selling {stock_choice.name} now. How many shares would you like to sell?'))\n",
    "        Player.sell_shares(stock_choice, amount_to_sell)\n",
    "        \n",
    "def random_amt():\n",
    "    portfolio_pct = Robert.balance * (random.randint(1,5) / 10)\n",
    "    amt = int(portfolio_pct / pick.price)\n",
    "    return amt"
   ]
  },
  {
   "cell_type": "code",
   "execution_count": 7,
   "id": "554d8065-d79e-4b56-88b0-15ab6d69d93d",
   "metadata": {},
   "outputs": [
    {
     "name": "stdout",
     "output_type": "stream",
     "text": [
      "Round 1. Displaying prices...\n",
      "CBA price: 100\n",
      "ANZ price: 68\n",
      "NAB price: 83\n"
     ]
    },
    {
     "name": "stdin",
     "output_type": "stream",
     "text": [
      "Would you like to buy or sell a stock? buy\n",
      "Which stock would you like to buy? CBA\n",
      "How many shares would you like to buy? 30\n"
     ]
    },
    {
     "name": "stdout",
     "output_type": "stream",
     "text": [
      "Okay, processing transaction now...\n",
      "Buying CBA for $100. Buying 30 shares\n",
      "Total cost: $3000. New Balance = $7000.\n"
     ]
    },
    {
     "name": "stdin",
     "output_type": "stream",
     "text": [
      "Transaction processed. Would you like to buy anymore stocks? no\n",
      "Would you like to sell stocks then, or move to Roberts turn? no\n"
     ]
    },
    {
     "name": "stdout",
     "output_type": "stream",
     "text": [
      "Okay, moving to Roberts!\n",
      "Now it's Robert's turn to trade!\n",
      "Robert will be buying!\n",
      "Buying NAB for $83. Buying 24 shares\n",
      "Total cost: $1992. New Balance = $8008.\n",
      "Robert's portfolio is now: {Stock(NAB, 83): 24}\n",
      "Comparing portfolioes...\n",
      "Robert's portfolio: {Stock(NAB, 83): 24}\n",
      "Your portfolio: {Stock(CBA, 100): 30}\n",
      "You're ahead by False! Keep it up.\n",
      "Comparing portfolioes...\n",
      "Robert's portfolio: {Stock(NAB, 83): 24}\n",
      "Your portfolio: {Stock(CBA, 100): 30}\n",
      "You're ahead by -1008! Keep it up.\n",
      "Round 2. Displaying prices...\n",
      "CBA price: 90.86852366901262\n",
      "ANZ price: 74.32973797355415\n",
      "NAB price: 79.39111106332408\n"
     ]
    },
    {
     "name": "stdin",
     "output_type": "stream",
     "text": [
      "Would you like to buy or sell a stock? sell\n",
      "Okay. Here is your current portfolio: \n",
      " Total value of CBA : 2726.0557100703786. Total number of shares: 30. Total value of portfolio : $2726.0557100703786\n",
      " Here is your current balance: 7000.\n",
      " What would you like to sell? CBA\n",
      "You don't hold that stock! Please enter a valid stock to sell, or type 'exit' to exit. EXIT\n",
      "Transaction processed. Would you like to sell anymore stocks? no\n",
      "Would you like to buy stocks then, or move to Roberts turn? no\n"
     ]
    },
    {
     "name": "stdout",
     "output_type": "stream",
     "text": [
      "Okay, moving to Roberts turn!\n",
      "Now it's Robert's turn to trade!\n",
      "Robert will be buying!\n",
      "Buying NAB for $79.39111106332408. Buying 10 shares\n",
      "Total cost: $793.9111106332407. New Balance = $7214.08888936676.\n",
      "Robert's portfolio is now: {Stock(NAB, 79.39111106332408): 34}\n",
      "Comparing portfolioes...\n",
      "Robert's portfolio: {Stock(NAB, 79.39111106332408): 34}\n",
      "Your portfolio: {Stock(CBA, 90.86852366901262): 30}\n",
      "You're ahead by False! Keep it up.\n",
      "Comparing portfolioes...\n",
      "Robert's portfolio: {Stock(NAB, 79.39111106332408): 34}\n",
      "Your portfolio: {Stock(CBA, 90.86852366901262): 30}\n",
      "You're ahead by -26.75793391735988! Keep it up.\n",
      "Round 3. Displaying prices...\n",
      "CBA price: 87.77773465676941\n",
      "ANZ price: 68.10203160396243\n",
      "NAB price: 77.0172567101973\n"
     ]
    },
    {
     "name": "stdin",
     "output_type": "stream",
     "text": [
      "Would you like to buy or sell a stock? buy\n",
      "Which stock would you like to buy? CBA\n",
      "How many shares would you like to buy? 1\n"
     ]
    },
    {
     "name": "stdout",
     "output_type": "stream",
     "text": [
      "Okay, processing transaction now...\n",
      "Buying CBA for $87.77773465676941. Buying 1 shares\n",
      "Total cost: $87.77773465676941. New Balance = $6912.222265343231.\n"
     ]
    },
    {
     "name": "stdin",
     "output_type": "stream",
     "text": [
      "Transaction processed. Would you like to buy anymore stocks? no\n",
      "Would you like to sell stocks then, or move to Roberts turn? no\n"
     ]
    },
    {
     "name": "stdout",
     "output_type": "stream",
     "text": [
      "Okay, moving to Roberts!\n",
      "Now it's Robert's turn to trade!\n",
      "Robert will be buying!\n",
      "Buying CBA for $87.77773465676941. Buying 16 shares\n",
      "Total cost: $1404.4437545083106. New Balance = $5809.645134858449.\n",
      "Robert's portfolio is now: {Stock(NAB, 77.0172567101973): 34, Stock(CBA, 87.77773465676941): 16}\n",
      "Comparing portfolioes...\n",
      "Robert's portfolio: {Stock(NAB, 77.0172567101973): 34, Stock(CBA, 87.77773465676941): 16}\n",
      "Your portfolio: {Stock(CBA, 87.77773465676941): 31}\n",
      "Robert is ahead by True! Better luck next round\n",
      "That was the last round! Here are the results...\n",
      "Robert's portfolio: {Stock(NAB, 77.0172567101973): 34, Stock(CBA, 87.77773465676941): 16}\n",
      "Your portfolio: {Stock(CBA, 87.77773465676941): 31}\n",
      "Robert has WON by 1301.920708295167! Better luck time\n"
     ]
    }
   ],
   "source": [
    "counter = 0\n",
    "\n",
    "for turn in range(3):\n",
    "    \n",
    "    counter += 1\n",
    "    print(f'Round {counter}. Displaying prices...')\n",
    "    for stock in lst:\n",
    "        if counter > 1:\n",
    "            print(f'{stock.name} price: {stock.update_price()}')\n",
    "        else:\n",
    "            print(f'{stock.name} price: {stock.price}')\n",
    "            \n",
    "    UI = input('Would you like to buy or sell a stock?')\n",
    "    \n",
    "    #Buying if-statement \n",
    "    \n",
    "    if UI.lower() == 'buy':\n",
    "        buy_order()\n",
    "        \n",
    "        player_choice = input(\"Transaction processed. Would you like to buy anymore stocks?\")\n",
    "    \n",
    "        while player_choice.lower() == 'yes':\n",
    "            buy_order()\n",
    "            player_choice = input(\"Do you want to buy more stocks?\")\n",
    "            \n",
    "        if player_choice.lower() == 'no':\n",
    "            choice = input('Would you like to sell stocks then, or move to Roberts turn?')\n",
    "\n",
    "            if choice.lower() == 'sell':\n",
    "                    sell_order()\n",
    "                    player_choice = input(\"Transaction processed. Would you like to sell anymore stocks?\")\n",
    "                    while player_choice.lower() == 'yes':\n",
    "                        sell_order()\n",
    "                        player_choice = input(\"Do you want to sell more stocks? (yes/no): \")\n",
    "            else:\n",
    "                print('Okay, moving to Roberts!')\n",
    "                    \n",
    "            \n",
    "    #Selling if-statement \n",
    "                \n",
    "    elif UI.lower() == 'sell':\n",
    "        sell_order()\n",
    "        player_choice = input(\"Transaction processed. Would you like to sell anymore stocks?\")\n",
    "        while player_choice.lower() == 'yes':\n",
    "            sell_order()\n",
    "            player_choice = input(\"Do you want to sell more stocks? (yes/no): \")\n",
    "            \n",
    "        if player_choice.lower() == 'no':\n",
    "            choice = input('Would you like to buy stocks then, or move to Roberts turn?')\n",
    "\n",
    "            if choice.lower() == 'buy':\n",
    "                    buy_order()\n",
    "                    player_choice = input(\"Transaction processed. Would you like to buy anymore stocks?\")\n",
    "                    while player_choice.lower() == 'yes':\n",
    "                        sell_order()\n",
    "                        player_choice = input(\"Do you want to sell more stocks? (yes/no): \")\n",
    "            else:\n",
    "                print('Okay, moving to Roberts turn!')\n",
    "\n",
    "\n",
    "    #Robert's choices\n",
    "    print(\"Now it's Robert's turn to trade!\")\n",
    "    simulation = random.randint(0,10)\n",
    "    if counter > 3:\n",
    "        if simulation > 3:\n",
    "            print('Robert will be buying!')\n",
    "            if Robert.balance < 120: \n",
    "                print(\"Robert does not have enough funds. Moving to next round!\")\n",
    "            else:\n",
    "                pick = lst[random.randint(0,2)]\n",
    "                Robert.buy_shares(pick, random_amt())\n",
    "                print(f\"Robert's portfolio is now: {Robert.portfolio}\")\n",
    "        else:\n",
    "            print(\"Robert will be selling!\")\n",
    "            random_key = random.choice(list(Robert.portfolio.keys()))\n",
    "            Robert.sell_shares(random_key, 2)\n",
    "            print(f\"Robert's portfolio is now: {Robert.portfolio_value()}\")\n",
    "    else:\n",
    "        print('Robert will be buying!')\n",
    "        pick = lst[random.randint(0,2)]\n",
    "        Robert.buy_shares(pick, random_amt())\n",
    "        print(f\"Robert's portfolio is now: {Robert.portfolio}\")\n",
    "        \n",
    "    \n",
    "    \n",
    "                      \n",
    "    #Portfolio comparison\n",
    "    time.sleep(2)\n",
    "    print(\"Comparing portfolioes...\")\n",
    "    print(f\"Robert's portfolio: {Robert.portfolio}\")\n",
    "    print(f\"Your portfolio: {Player.portfolio}\")     \n",
    "    diff = Robert.get_value() - Player.get_value() > 0\n",
    "    \n",
    "    if diff > 0:\n",
    "        print(f\"Robert is ahead by {diff}! Better luck next round\")\n",
    "    else:\n",
    "        print(f\"You're ahead by {diff}! Keep it up.\")\n",
    "    \n",
    "    if counter < 3:\n",
    "        print(\"Comparing portfolioes...\")\n",
    "        print(f\"Robert's portfolio: {Robert.portfolio}\")\n",
    "        print(f\"Your portfolio: {Player.portfolio}\")     \n",
    "        diff = Robert.get_value() - Player.get_value() \n",
    "    \n",
    "        if diff > 0:\n",
    "            print(f\"Robert is ahead by {diff}! Better luck next round\")\n",
    "        else:\n",
    "            print(f\"You're ahead by {diff}! Keep it up.\")\n",
    "    else:\n",
    "        print(\"That was the last round! Here are the results...\")\n",
    "        diff = Robert.get_value() - Player.get_value() \n",
    "        print(f\"Robert's portfolio: {Robert.portfolio}\")\n",
    "        print(f\"Your portfolio: {Player.portfolio}\")    \n",
    "        diff = Robert.get_value() - Player.get_value() \n",
    "        \n",
    "        if diff > 0:\n",
    "            print(f\"Robert has WON by {diff}! Better luck time\")\n",
    "        else:\n",
    "            print(f\"You've won by {diff}! You are the Trading Master this time!.\")\n",
    "        "
   ]
  },
  {
   "cell_type": "code",
   "execution_count": 273,
   "id": "1af6e57d-d18a-4add-8f7d-ca37f9d6873a",
   "metadata": {},
   "outputs": [
    {
     "data": {
      "text/plain": [
       "-2413.909615792256"
      ]
     },
     "execution_count": 273,
     "metadata": {},
     "output_type": "execute_result"
    }
   ],
   "source": [
    "Robert.get_value() - Player.get_value()"
   ]
  },
  {
   "cell_type": "code",
   "execution_count": 219,
   "id": "4b631a59-0e00-4fa7-b381-eae41827c2d6",
   "metadata": {},
   "outputs": [
    {
     "name": "stdout",
     "output_type": "stream",
     "text": [
      "Robert will be buying!\n",
      "Buying CBA for $116.86295084240346. Buying 3 shares\n",
      "Total cost: $350.5888525272104. New Balance = $1446.6901890219456.\n",
      "Robert's portfolio is now: {Stock(CBA, 116.86295084240346): 8, Stock(ANZ, 75.53619247882521): 46, Stock(NAB, 69.06235583688112): 60}\n"
     ]
    }
   ],
   "source": [
    "simulation = random.randint(0,10)\n",
    "if simulation > 3:\n",
    "    print('Robert will be buying!')a\n",
    "    if Robert.balance < 120: \n",
    "        print(\"Robert does not have enough funds. Moving to next round!\")\n",
    "    else:\n",
    "        pick = lst[random.randint(0,2)]\n",
    "        Robert.buy_shares(pick, random_amt())\n",
    "        print(f\"Robert's portfolio is now: {Robert.portfolio}\")\n",
    "else:\n",
    "    print(\"Robert will be selling!\")\n",
    "    random_key = random.choice(list(Robert.portfolio.keys()))\n",
    "    Robert.sell_shares(random_key, 2)\n",
    "    print(f\"Robert's portfolio is now: {Robert.portfolio_value()}\")"
   ]
  },
  {
   "cell_type": "code",
   "execution_count": 146,
   "id": "b20b21b0-1c3e-46da-95a1-54b04c982ac7",
   "metadata": {},
   "outputs": [
    {
     "ename": "AttributeError",
     "evalue": "'str' object has no attribute 'name'",
     "output_type": "error",
     "traceback": [
      "\u001b[1;31m---------------------------------------------------------------------------\u001b[0m",
      "\u001b[1;31mAttributeError\u001b[0m                            Traceback (most recent call last)",
      "Cell \u001b[1;32mIn[146], line 1\u001b[0m\n\u001b[1;32m----> 1\u001b[0m \u001b[43mRobert\u001b[49m\u001b[38;5;241;43m.\u001b[39;49m\u001b[43msell_shares\u001b[49m\u001b[43m(\u001b[49m\u001b[43mlst\u001b[49m\u001b[43m[\u001b[49m\u001b[38;5;241;43m0\u001b[39;49m\u001b[43m]\u001b[49m\u001b[38;5;241;43m.\u001b[39;49m\u001b[43mname\u001b[49m\u001b[43m,\u001b[49m\u001b[43m \u001b[49m\u001b[38;5;241;43m2\u001b[39;49m\u001b[43m)\u001b[49m\n",
      "Cell \u001b[1;32mIn[123], line 52\u001b[0m, in \u001b[0;36mTrader.sell_shares\u001b[1;34m(self, stock, quantity)\u001b[0m\n\u001b[0;32m     48\u001b[0m \u001b[38;5;28;01mdef\u001b[39;00m \u001b[38;5;21msell_shares\u001b[39m(\u001b[38;5;28mself\u001b[39m, stock, quantity):\n\u001b[0;32m     50\u001b[0m     stock_names \u001b[38;5;241m=\u001b[39m [s\u001b[38;5;241m.\u001b[39mname \u001b[38;5;28;01mfor\u001b[39;00m s \u001b[38;5;129;01min\u001b[39;00m \u001b[38;5;28mself\u001b[39m\u001b[38;5;241m.\u001b[39mportfolio\u001b[38;5;241m.\u001b[39mkeys()]\n\u001b[1;32m---> 52\u001b[0m     \u001b[38;5;28;01mif\u001b[39;00m \u001b[43mstock\u001b[49m\u001b[38;5;241;43m.\u001b[39;49m\u001b[43mname\u001b[49m \u001b[38;5;129;01mnot\u001b[39;00m \u001b[38;5;129;01min\u001b[39;00m stock_names:\n\u001b[0;32m     53\u001b[0m         \u001b[38;5;28mprint\u001b[39m(\u001b[38;5;124m'\u001b[39m\u001b[38;5;124mNot a real stock!\u001b[39m\u001b[38;5;124m'\u001b[39m)\n\u001b[0;32m     54\u001b[0m     \u001b[38;5;28;01melse\u001b[39;00m:\n",
      "\u001b[1;31mAttributeError\u001b[0m: 'str' object has no attribute 'name'"
     ]
    }
   ],
   "source": [
    "Robert.sell_shares(CBA, 2)"
   ]
  },
  {
   "cell_type": "code",
   "execution_count": 239,
   "id": "07e6dc6a-eac6-4a3e-8d7b-07f79bf48c00",
   "metadata": {},
   "outputs": [
    {
     "name": "stdout",
     "output_type": "stream",
     "text": [
      "Buying CBA for $124.07720217837853. Buying 50 shares\n",
      "Total cost: $6203.860108918926. New Balance = $3796.139891081074.\n"
     ]
    },
    {
     "data": {
      "text/plain": [
       "'Portfolio is: {Stock(CBA, 124.07720217837853): 50}'"
      ]
     },
     "execution_count": 239,
     "metadata": {},
     "output_type": "execute_result"
    }
   ],
   "source": [
    "Robert.buy_shares(CBA, 50)"
   ]
  },
  {
   "cell_type": "code",
   "execution_count": 145,
   "id": "cc20b200-d18a-498b-9301-3f5724f40067",
   "metadata": {},
   "outputs": [
    {
     "data": {
      "text/plain": [
       "{Stock(CBA, 116.86295084240346): 50}"
      ]
     },
     "execution_count": 145,
     "metadata": {},
     "output_type": "execute_result"
    }
   ],
   "source": [
    "Robert.portfolio"
   ]
  },
  {
   "cell_type": "code",
   "execution_count": 209,
   "id": "577507fc-0c2f-440b-ba7d-10d4779dfe6d",
   "metadata": {},
   "outputs": [
    {
     "name": "stdout",
     "output_type": "stream",
     "text": [
      "CBA\n",
      "ANZ\n",
      "NAB\n"
     ]
    }
   ],
   "source": [
    "for i in Robert.portfolio.keys():\n",
    "    print(i.name)"
   ]
  },
  {
   "cell_type": "code",
   "execution_count": 215,
   "id": "b336169b-88b7-448a-9119-2b89521abbf5",
   "metadata": {},
   "outputs": [
    {
     "name": "stdout",
     "output_type": "stream",
     "text": [
      "Selling CBA for $116.86295084240346. Sold 2 shares\n",
      "You have 7 left\n"
     ]
    }
   ],
   "source": [
    "random_key = random.choice(list(Robert.portfolio.keys()))\n",
    "Robert.sell_shares(random_key, 2)"
   ]
  },
  {
   "cell_type": "code",
   "execution_count": null,
   "id": "1723e7ab-4e79-4e58-8a84-668c551cbcee",
   "metadata": {},
   "outputs": [],
   "source": []
  }
 ],
 "metadata": {
  "kernelspec": {
   "display_name": "Python 3 (ipykernel)",
   "language": "python",
   "name": "python3"
  },
  "language_info": {
   "codemirror_mode": {
    "name": "ipython",
    "version": 3
   },
   "file_extension": ".py",
   "mimetype": "text/x-python",
   "name": "python",
   "nbconvert_exporter": "python",
   "pygments_lexer": "ipython3",
   "version": "3.9.13"
  }
 },
 "nbformat": 4,
 "nbformat_minor": 5
}
