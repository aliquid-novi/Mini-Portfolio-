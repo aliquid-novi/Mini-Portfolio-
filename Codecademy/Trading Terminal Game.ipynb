{
 "cells": [
  {
   "cell_type": "code",
   "execution_count": 1,
   "id": "e9329e82-c287-4bda-ac1d-82a23b165f33",
   "metadata": {},
   "outputs": [],
   "source": [
    "import random"
   ]
  },
  {
   "cell_type": "code",
   "execution_count": 2,
   "id": "d2b8af82-3215-4902-be0d-583caaf23205",
   "metadata": {},
   "outputs": [],
   "source": [
    "class Stock:\n",
    "    def __init__(self, name, price):\n",
    "        self.name = name\n",
    "        self.price = price\n",
    "\n",
    "    def __hash__(self):\n",
    "        return hash(self.name)\n",
    "\n",
    "    def __eq__(self, other):\n",
    "        if isinstance(other, Stock):\n",
    "            return self.name == other.name\n",
    "        return False\n",
    "\n",
    "    def __repr__(self):\n",
    "        return f\"Stock({self.name}, {self.price})\"\n",
    "\n",
    "    def update_price(self):\n",
    "        self.price = self.price - self.price * random.uniform(-0.1, 0.1)\n",
    "        return self.price\n",
    "\n",
    "class Trader:\n",
    "    def __init__(self, balance):\n",
    "        self.balance = balance\n",
    "        self.portfolio = {}\n",
    "\n",
    "    def buy_shares(self, stock, quantity):\n",
    "        print(f'Buying {stock} for {stock.price}. Buying {quantity}')\n",
    "        total_cost = stock.price * quantity\n",
    "        self.balance -= total_cost\n",
    "        print(f'Total cost: {total_cost}. New Balance = {self.balance}')\n",
    "\n",
    "        if stock in self.portfolio:\n",
    "            self.portfolio[stock] += quantity\n",
    "        else:\n",
    "            self.portfolio[stock] = quantity\n",
    "\n",
    "        return self.portfolio"
   ]
  },
  {
   "cell_type": "code",
   "execution_count": 3,
   "id": "a197797f-e863-410f-9609-be29eff21c78",
   "metadata": {},
   "outputs": [],
   "source": [
    "Robert = Trader(10000)"
   ]
  },
  {
   "cell_type": "code",
   "execution_count": 4,
   "id": "1ec674b7-de42-4779-a160-078c9eb5269a",
   "metadata": {},
   "outputs": [],
   "source": [
    "CBA = Stock('CBA', 100)\n",
    "ANZ = Stock('ANZ', 68)\n",
    "NAB = Stock('NAB', 83)"
   ]
  },
  {
   "cell_type": "code",
   "execution_count": 5,
   "id": "29549c52-8b73-43ed-8ef8-048a4954fdf7",
   "metadata": {
    "tags": []
   },
   "outputs": [
    {
     "name": "stdout",
     "output_type": "stream",
     "text": [
      "Buying Stock(CBA, 100) for 100. Buying 3\n",
      "Total cost: 300. New Balance = 9700\n",
      "{Stock(CBA, 100): 3}\n"
     ]
    }
   ],
   "source": [
    "Robert.buy_shares(CBA, 3)\n",
    "print(Robert.portfolio)"
   ]
  },
  {
   "cell_type": "code",
   "execution_count": null,
   "id": "449c4def-8515-40de-95aa-d3aa74b8c1bb",
   "metadata": {},
   "outputs": [],
   "source": []
  }
 ],
 "metadata": {
  "kernelspec": {
   "display_name": "Python 3 (ipykernel)",
   "language": "python",
   "name": "python3"
  },
  "language_info": {
   "codemirror_mode": {
    "name": "ipython",
    "version": 3
   },
   "file_extension": ".py",
   "mimetype": "text/x-python",
   "name": "python",
   "nbconvert_exporter": "python",
   "pygments_lexer": "ipython3",
   "version": "3.9.13"
  }
 },
 "nbformat": 4,
 "nbformat_minor": 5
}
